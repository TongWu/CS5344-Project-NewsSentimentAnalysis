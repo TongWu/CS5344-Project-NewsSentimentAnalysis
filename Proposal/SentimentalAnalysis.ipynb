{
 "cells": [
  {
   "cell_type": "code",
   "id": "initial_id",
   "metadata": {
    "collapsed": true,
    "ExecuteTime": {
     "end_time": "2024-09-26T16:55:29.093057Z",
     "start_time": "2024-09-26T16:55:29.090947Z"
    }
   },
   "source": [
    "from pyspark.sql import SparkSession\n",
    "from pyspark.sql.functions import col, udf, when, isnan, isnull\n",
    "from pyspark.sql.types import IntegerType, StringType, FloatType\n",
    "from pyspark.ml.feature import Tokenizer, StopWordsRemover, HashingTF, IDF, StringIndexer\n",
    "from pyspark.ml.classification import LogisticRegression\n",
    "from pyspark.ml import Pipeline\n",
    "from pyspark.ml.evaluation import MulticlassClassificationEvaluator"
   ],
   "outputs": [],
   "execution_count": 18
  },
  {
   "metadata": {
    "ExecuteTime": {
     "end_time": "2024-09-26T16:55:29.109014Z",
     "start_time": "2024-09-26T16:55:29.102792Z"
    }
   },
   "cell_type": "code",
   "source": [
    "spark = SparkSession.builder.appName(\n",
    "            \"SentimentAnalysisBaseline\"\n",
    "        ).config(\n",
    "            \"spark.executor.memory\", \"16g\"\n",
    "        ).config(\n",
    "            \"spark.driver.memory\", \"32g\"\n",
    "        ).getOrCreate()"
   ],
   "id": "ad21603dd51ffa5a",
   "outputs": [],
   "execution_count": 19
  },
  {
   "metadata": {
    "ExecuteTime": {
     "end_time": "2024-09-26T16:55:55.017986Z",
     "start_time": "2024-09-26T16:55:29.125447Z"
    }
   },
   "cell_type": "code",
   "source": "df = spark.read.csv(\"ggg_sg.csv\", header=True, inferSchema=True, multiLine=True, escape='\"')",
   "id": "fdf1dbc734b85dea",
   "outputs": [
    {
     "name": "stderr",
     "output_type": "stream",
     "text": [
      "24/09/27 00:55:29 WARN MemoryStore: Failed to reserve initial memory threshold of 1024.0 KiB for computing block broadcast_24 in memory.\n",
      "24/09/27 00:55:29 WARN MemoryStore: Not enough space to cache broadcast_24 in memory! (computed 384.0 B so far)\n",
      "24/09/27 00:55:29 WARN BlockManager: Persisting block broadcast_24 to disk instead.\n",
      "24/09/27 00:55:29 WARN MemoryStore: Failed to reserve initial memory threshold of 1024.0 KiB for computing block broadcast_24 in memory.\n",
      "24/09/27 00:55:29 WARN MemoryStore: Not enough space to cache broadcast_24 in memory! (computed 384.0 B so far)\n",
      "24/09/27 00:55:29 WARN MemoryStore: Failed to reserve initial memory threshold of 1024.0 KiB for computing block broadcast_25 in memory.\n",
      "24/09/27 00:55:29 WARN MemoryStore: Not enough space to cache broadcast_25 in memory! (computed 384.0 B so far)\n",
      "24/09/27 00:55:29 WARN BlockManager: Persisting block broadcast_25 to disk instead.\n",
      "24/09/27 00:55:29 WARN MemoryStore: Failed to reserve initial memory threshold of 1024.0 KiB for computing block broadcast_25 in memory.\n",
      "24/09/27 00:55:29 WARN MemoryStore: Not enough space to cache broadcast_25 in memory! (computed 384.0 B so far)\n",
      "24/09/27 00:55:29 WARN MemoryStore: Failed to reserve initial memory threshold of 1024.0 KiB for computing block broadcast_26 in memory.\n",
      "24/09/27 00:55:29 WARN MemoryStore: Not enough space to cache broadcast_26 in memory! (computed 384.0 B so far)\n",
      "24/09/27 00:55:29 WARN BlockManager: Persisting block broadcast_26 to disk instead.\n",
      "24/09/27 00:55:29 WARN MemoryStore: Failed to reserve initial memory threshold of 1024.0 KiB for computing block broadcast_26 in memory.\n",
      "24/09/27 00:55:29 WARN MemoryStore: Not enough space to cache broadcast_26 in memory! (computed 384.0 B so far)\n",
      "                                                                                \r"
     ]
    }
   ],
   "execution_count": 20
  },
  {
   "metadata": {
    "ExecuteTime": {
     "end_time": "2024-09-26T16:55:55.089166Z",
     "start_time": "2024-09-26T16:55:55.033134Z"
    }
   },
   "cell_type": "code",
   "source": "df.show()",
   "id": "2f247d8b0d114048",
   "outputs": [
    {
     "name": "stdout",
     "output_type": "stream",
     "text": [
      "+-------------------+--------------------+--------------------+--------------------+--------+-----------------+-----------------+---------+------+-----+-----------+--------+--------+-------+--------------------+-------------------+\n",
      "|           DateTime|                 URL|               Title|        SharingImage|LangCode|          DocTone|DomainCountryCode| Location|   Lat|  Lon|CountryCode|Adm1Code|Adm2Code|GeoType|      ContextualText|           the_geom|\n",
      "+-------------------+--------------------+--------------------+--------------------+--------+-----------------+-----------------+---------+------+-----+-----------+--------+--------+-------+--------------------+-------------------+\n",
      "|2022-08-18 19:15:00|https://www.goal....|How to watch Manc...|https://assets.go...|     eng|0.764331210191083|               SP|Singapore|1.3667|103.8|         SN|      SN|    null|      1|nunez added to kl...|POINT(103.8 1.3667)|\n",
      "|2021-03-09 01:30:00|https://www.labma...|Vetter Announces ...|https://www.labma...|     eng| 3.08483290488432|               UK|Singapore|1.3667|103.8|         SN|      SN|    null|      1|director key acco...|POINT(103.8 1.3667)|\n",
      "|2018-05-26 13:30:00|http://www.cotswo...|Summit after all ...|http://www.cotswo...|     eng|              0.0|               UK|Singapore|1.3667|103.8|         SN|      SN|    null|      1|trump has said ve...|POINT(103.8 1.3667)|\n",
      "|2018-06-04 23:30:00|http://www.dailym...|Official organizi...|http://i.dailymai...|     eng|-0.15600624024961|               UK|Singapore|1.3667|103.8|         SN|      SN|    null|      1|south lawn follow...|POINT(103.8 1.3667)|\n",
      "|2019-06-18 14:00:00|https://www.strai...|German firm Evoni...|https://www.strai...|     eng|0.568990042674253|               SN|Singapore|1.3667|103.8|         SN|      SN|    null|      1|german chemical g...|POINT(103.8 1.3667)|\n",
      "|2017-05-12 06:30:00|http://www.tnp.sg...|Hard work pays of...|http://www.tnp.sg...|     eng|  2.2964509394572|               SN|Singapore|1.3667|103.8|         SN|      SN|    null|      1|is hard work and ...|POINT(103.8 1.3667)|\n",
      "|2020-10-02 08:45:00|https://www.asiao...|Man dies after 3 ...|https://media.asi...|     eng|-3.25379609544469|               SN|Singapore|1.3667|103.8|         SN|      SN|    null|      1|on sept 17 two wo...|POINT(103.8 1.3667)|\n",
      "|2018-11-30 07:30:00|https://www.busin...|It time to consid...|https://www.busin...|     eng|  1.0806916426513|               SN|Singapore|1.3667|103.8|         SN|      SN|    null|      1|competition betwe...|POINT(103.8 1.3667)|\n",
      "|2019-03-26 16:30:00|https://news.cisi...|Storytel launches...|                null|     eng| 2.27272727272727|               SW|Singapore|1.3667|103.8|         SN|      SN|    null|      1|is the 16th marke...|POINT(103.8 1.3667)|\n",
      "|2020-08-06 19:00:00|https://www.ig.co...|EUR / USD edges b...|https://a.c-dn.ne...|     eng|  1.0752688172043|               UK|Singapore|1.3667|103.8|         SN|      SN|    null|      1|may distribute in...|POINT(103.8 1.3667)|\n",
      "|2018-08-02 05:30:00|http://yourelecti...|Opteck binary opt...|                null|     eng| 1.15562403697997|               UK|Singapore|1.3667|103.8|         SN|      SN|    null|      1|at all the former...|POINT(103.8 1.3667)|\n",
      "|2017-10-31 02:00:00|http://www.asiaon...|BETADINE ( R ) 10...|http://www.asiaon...|     eng|  2.7063599458728|               SN|Singapore|1.3667|103.8|         SN|      SN|    null|      1|after the first m...|POINT(103.8 1.3667)|\n",
      "|2020-06-18 14:45:00|https://www.strai...|Migrant workers m...|https://www.strai...|     eng|-2.40641711229946|               SN|Singapore|1.3667|103.8|         SN|      SN|    null|      1|migrant workers m...|POINT(103.8 1.3667)|\n",
      "|2019-07-30 20:00:00|https://www.strai...|Pilot programme t...|https://www.strai...|     eng| 2.69299820466786|               SN|Singapore|1.3667|103.8|         SN|      SN|    null|      1|foreign professio...|POINT(103.8 1.3667)|\n",
      "|2018-06-14 18:15:00|http://www.asiaon...| ' Where is Singa...|http://www.asiaon...|     eng|0.441501103752759|               SN|Singapore|1.3667|103.8|         SN|      SN|    null|      1|east asian city s...|POINT(103.8 1.3667)|\n",
      "|2021-03-03 07:45:00|https://www.strai...|22 applications f...|https://www.strai...|     eng| 3.84615384615385|               SN|Singapore|1.3667|103.8|         SN|      SN|    null|      1|pass approvals an...|POINT(103.8 1.3667)|\n",
      "|2023-02-06 14:30:00|https://www.singa...|Why are wealthy I...|https://cdn.bigne...|     eng| 2.40963855421687|               SN|Singapore|1.3667|103.8|         SN|      SN|    null|      1|data is available...|POINT(103.8 1.3667)|\n",
      "|2017-08-07 12:30:00|http://sglinks.co...|Fintech investmen...|http://static.sgl...|     eng|0.275482093663912|               SN|Singapore|1.3667|103.8|         SN|      SN|    null|      1|authority of sing...|POINT(103.8 1.3667)|\n",
      "|2019-12-07 07:45:00|http://theindepen...|WP member asks On...|http://theindepen...|     eng|-2.44186046511628|               SN|Singapore|1.3667|103.8|         SN|      SN|    null|      1|of singapore poly...|POINT(103.8 1.3667)|\n",
      "|2021-04-09 01:45:00|https://www.manil...|Petron plans perp...|https://www.manil...|     eng|-1.63934426229508|               RP|Singapore|1.3667|103.8|         SN|      SN|    null|      1|that its executiv...|POINT(103.8 1.3667)|\n",
      "+-------------------+--------------------+--------------------+--------------------+--------+-----------------+-----------------+---------+------+-----+-----------+--------+--------+-------+--------------------+-------------------+\n",
      "only showing top 20 rows\n",
      "\n"
     ]
    }
   ],
   "execution_count": 21
  },
  {
   "metadata": {
    "ExecuteTime": {
     "end_time": "2024-09-26T16:55:55.103245Z",
     "start_time": "2024-09-26T16:55:55.096897Z"
    }
   },
   "cell_type": "code",
   "source": [
    "df = df.filter(df.ContextualText.isNotNull())\n",
    "df = df.filter(df.DocTone.isNotNull())"
   ],
   "id": "a081f8f0c1dd10a5",
   "outputs": [],
   "execution_count": 22
  },
  {
   "metadata": {
    "ExecuteTime": {
     "end_time": "2024-09-26T16:55:55.192271Z",
     "start_time": "2024-09-26T16:55:55.181393Z"
    }
   },
   "cell_type": "code",
   "source": "df = df.withColumn(\"DocTone\", df[\"DocTone\"].cast(FloatType()))",
   "id": "7a0cf6e2d0fcc816",
   "outputs": [],
   "execution_count": 23
  },
  {
   "metadata": {
    "ExecuteTime": {
     "end_time": "2024-09-26T16:55:55.276449Z",
     "start_time": "2024-09-26T16:55:55.220694Z"
    }
   },
   "cell_type": "code",
   "source": "df.show(10)",
   "id": "6a97c1490d3dfce6",
   "outputs": [
    {
     "name": "stdout",
     "output_type": "stream",
     "text": [
      "+-------------------+--------------------+--------------------+--------------------+--------+-----------+-----------------+---------+------+-----+-----------+--------+--------+-------+--------------------+-------------------+\n",
      "|           DateTime|                 URL|               Title|        SharingImage|LangCode|    DocTone|DomainCountryCode| Location|   Lat|  Lon|CountryCode|Adm1Code|Adm2Code|GeoType|      ContextualText|           the_geom|\n",
      "+-------------------+--------------------+--------------------+--------------------+--------+-----------+-----------------+---------+------+-----+-----------+--------+--------+-------+--------------------+-------------------+\n",
      "|2022-08-18 19:15:00|https://www.goal....|How to watch Manc...|https://assets.go...|     eng|  0.7643312|               SP|Singapore|1.3667|103.8|         SN|      SN|    null|      1|nunez added to kl...|POINT(103.8 1.3667)|\n",
      "|2021-03-09 01:30:00|https://www.labma...|Vetter Announces ...|https://www.labma...|     eng|   3.084833|               UK|Singapore|1.3667|103.8|         SN|      SN|    null|      1|director key acco...|POINT(103.8 1.3667)|\n",
      "|2018-05-26 13:30:00|http://www.cotswo...|Summit after all ...|http://www.cotswo...|     eng|        0.0|               UK|Singapore|1.3667|103.8|         SN|      SN|    null|      1|trump has said ve...|POINT(103.8 1.3667)|\n",
      "|2018-06-04 23:30:00|http://www.dailym...|Official organizi...|http://i.dailymai...|     eng|-0.15600625|               UK|Singapore|1.3667|103.8|         SN|      SN|    null|      1|south lawn follow...|POINT(103.8 1.3667)|\n",
      "|2019-06-18 14:00:00|https://www.strai...|German firm Evoni...|https://www.strai...|     eng| 0.56899005|               SN|Singapore|1.3667|103.8|         SN|      SN|    null|      1|german chemical g...|POINT(103.8 1.3667)|\n",
      "|2017-05-12 06:30:00|http://www.tnp.sg...|Hard work pays of...|http://www.tnp.sg...|     eng|  2.2964509|               SN|Singapore|1.3667|103.8|         SN|      SN|    null|      1|is hard work and ...|POINT(103.8 1.3667)|\n",
      "|2020-10-02 08:45:00|https://www.asiao...|Man dies after 3 ...|https://media.asi...|     eng|  -3.253796|               SN|Singapore|1.3667|103.8|         SN|      SN|    null|      1|on sept 17 two wo...|POINT(103.8 1.3667)|\n",
      "|2018-11-30 07:30:00|https://www.busin...|It time to consid...|https://www.busin...|     eng|  1.0806917|               SN|Singapore|1.3667|103.8|         SN|      SN|    null|      1|competition betwe...|POINT(103.8 1.3667)|\n",
      "|2019-03-26 16:30:00|https://news.cisi...|Storytel launches...|                null|     eng|  2.2727273|               SW|Singapore|1.3667|103.8|         SN|      SN|    null|      1|is the 16th marke...|POINT(103.8 1.3667)|\n",
      "|2020-08-06 19:00:00|https://www.ig.co...|EUR / USD edges b...|https://a.c-dn.ne...|     eng|  1.0752689|               UK|Singapore|1.3667|103.8|         SN|      SN|    null|      1|may distribute in...|POINT(103.8 1.3667)|\n",
      "+-------------------+--------------------+--------------------+--------------------+--------+-----------+-----------------+---------+------+-----+-----------+--------+--------+-------+--------------------+-------------------+\n",
      "only showing top 10 rows\n",
      "\n"
     ]
    }
   ],
   "execution_count": 24
  },
  {
   "metadata": {},
   "cell_type": "markdown",
   "source": "# Exploratory Data Analysis (DocTone)",
   "id": "296e08707ea46af3"
  },
  {
   "metadata": {
    "ExecuteTime": {
     "end_time": "2024-09-26T16:56:12.760611Z",
     "start_time": "2024-09-26T16:55:55.316914Z"
    }
   },
   "cell_type": "code",
   "source": [
    "from pyspark.sql.functions import col, min, max, avg, stddev, percentile_approx\n",
    "\n",
    "# 计算基本统计信息\n",
    "stats = df.select(\n",
    "    min(col(\"DocTone\")).alias(\"min_DocTone\"),\n",
    "    max(col(\"DocTone\")).alias(\"max_DocTone\"),\n",
    "    avg(col(\"DocTone\")).alias(\"avg_DocTone\"),\n",
    "    stddev(col(\"DocTone\")).alias(\"stddev_DocTone\")\n",
    ").collect()[0]\n",
    "\n",
    "print(\"DocTone Statistics:\")\n",
    "print(f\"Min: {stats['min_DocTone']}\")\n",
    "print(f\"Max: {stats['max_DocTone']}\")\n",
    "print(f\"Average: {stats['avg_DocTone']}\")\n",
    "print(f\"Standard Deviation: {stats['stddev_DocTone']}\")\n"
   ],
   "id": "51c7b7febc1023be",
   "outputs": [
    {
     "name": "stderr",
     "output_type": "stream",
     "text": [
      "24/09/27 00:55:55 WARN MemoryStore: Failed to reserve initial memory threshold of 1024.0 KiB for computing block broadcast_31 in memory.\n",
      "24/09/27 00:55:55 WARN MemoryStore: Not enough space to cache broadcast_31 in memory! (computed 384.0 B so far)\n",
      "24/09/27 00:55:55 WARN BlockManager: Persisting block broadcast_31 to disk instead.\n",
      "24/09/27 00:55:55 WARN MemoryStore: Failed to reserve initial memory threshold of 1024.0 KiB for computing block broadcast_32 in memory.\n",
      "24/09/27 00:55:55 WARN MemoryStore: Not enough space to cache broadcast_32 in memory! (computed 384.0 B so far)\n",
      "24/09/27 00:55:55 WARN BlockManager: Persisting block broadcast_32 to disk instead.\n",
      "24/09/27 00:55:55 WARN MemoryStore: Failed to reserve initial memory threshold of 1024.0 KiB for computing block broadcast_32 in memory.\n",
      "24/09/27 00:55:55 WARN MemoryStore: Not enough space to cache broadcast_32 in memory! (computed 384.0 B so far)\n",
      "24/09/27 00:55:55 WARN MemoryStore: Failed to reserve initial memory threshold of 1024.0 KiB for computing block broadcast_31 in memory.\n",
      "24/09/27 00:55:55 WARN MemoryStore: Not enough space to cache broadcast_31 in memory! (computed 384.0 B so far)\n",
      "[Stage 14:>                 (0 + 1) / 1][Stage 19:>                 (0 + 1) / 1]\r"
     ]
    },
    {
     "name": "stdout",
     "output_type": "stream",
     "text": [
      "DocTone Statistics:\n",
      "Min: -28.947368621826172\n",
      "Max: 34.78260803222656\n",
      "Average: -0.03639324925228623\n",
      "Standard Deviation: 3.1345220942204715\n"
     ]
    },
    {
     "name": "stderr",
     "output_type": "stream",
     "text": [
      "                                                                                \r"
     ]
    }
   ],
   "execution_count": 25
  },
  {
   "metadata": {
    "ExecuteTime": {
     "end_time": "2024-09-26T16:56:32.469617Z",
     "start_time": "2024-09-26T16:56:12.773219Z"
    }
   },
   "cell_type": "code",
   "source": [
    "# 定义需要计算的分位数列表\n",
    "quantiles = [0.0, 0.25, 0.5, 0.75, 1.0]\n",
    "\n",
    "# 计算分位数\n",
    "quantile_values = df.approxQuantile(\"DocTone\", quantiles, relativeError=0.001)\n",
    "\n",
    "# 输出分位数结果\n",
    "for q, value in zip(quantiles, quantile_values):\n",
    "    print(f\"{int(q*100)}th percentile: {value}\")\n"
   ],
   "id": "3f0e5f9303086332",
   "outputs": [
    {
     "name": "stderr",
     "output_type": "stream",
     "text": [
      "[Stage 14:>                 (0 + 1) / 1][Stage 22:>                 (0 + 1) / 1]\r"
     ]
    },
    {
     "name": "stdout",
     "output_type": "stream",
     "text": [
      "0th percentile: -28.947368621826172\n",
      "25th percentile: -2.0202019214630127\n",
      "50th percentile: 0.0\n",
      "75th percentile: 1.9910084009170532\n",
      "100th percentile: 34.78260803222656\n"
     ]
    },
    {
     "name": "stderr",
     "output_type": "stream",
     "text": [
      "                                                                                \r"
     ]
    }
   ],
   "execution_count": 26
  },
  {
   "metadata": {
    "ExecuteTime": {
     "end_time": "2024-09-26T16:56:49.798617Z",
     "start_time": "2024-09-26T16:56:32.599593Z"
    }
   },
   "cell_type": "code",
   "source": [
    "# 从数据集中抽样，例如抽取10万条记录\n",
    "sample_df = df.select(\"DocTone\").sample(False, 0.01, seed=42).limit(100000)\n",
    "\n",
    "# 将抽样数据收集到驱动程序（注意数据量不要过大，以免内存不足）\n",
    "doc_tone_values = sample_df.rdd.map(lambda row: row['DocTone']).collect()\n",
    "\n",
    "# 使用matplotlib或seaborn绘制直方图\n",
    "import matplotlib.pyplot as plt\n",
    "import seaborn as sns\n",
    "\n",
    "# 绘制直方图\n",
    "plt.figure(figsize=(10, 6))\n",
    "sns.histplot(doc_tone_values, bins=50, kde=True)\n",
    "plt.title('Distribution of DocTone Scores (Sampled Data)')\n",
    "plt.xlabel('DocTone Score')\n",
    "plt.ylabel('Frequency')\n",
    "plt.show()\n"
   ],
   "id": "6b7dbb8a93d3cea8",
   "outputs": [
    {
     "name": "stderr",
     "output_type": "stream",
     "text": [
      "                                                                                \r"
     ]
    },
    {
     "data": {
      "text/plain": [
       "<Figure size 1000x600 with 1 Axes>"
      ],
      "image/png": "[encoded data removed]"
     },
     "metadata": {},
     "output_type": "display_data"
    }
   ],
   "execution_count": 27
  },
  {
   "metadata": {},
   "cell_type": "markdown",
   "source": [
    "DocTone Statistics:\n",
    "\n",
    "Min: -28.947368621826172\n",
    "\n",
    "Max: 34.78260803222656\n",
    "\n",
    "Average: -0.03639324925228623\n",
    "\n",
    "Standard Deviation: 3.1345220942204715\n",
    "\n",
    "0th percentile: -28.947368621826172\n",
    "\n",
    "25th percentile: -2.0202019214630127\n",
    "\n",
    "50th percentile: 0.0\n",
    "\n",
    "75th percentile: 1.9910084009170532\n",
    "\n",
    "100th percentile: 34.78260803222656"
   ],
   "id": "41cae58c5d07fe1"
  },
  {
   "metadata": {},
   "cell_type": "markdown",
   "source": "# Sentiment Analysis",
   "id": "5623ea272d29b44f"
  },
  {
   "metadata": {
    "ExecuteTime": {
     "end_time": "2024-09-26T16:57:09.016232Z",
     "start_time": "2024-09-26T16:56:49.854971Z"
    }
   },
   "cell_type": "code",
   "source": [
    "# 创建情感标签：正面（1），中性（0），负面（-1）\n",
    "def sentiment_label(score):\n",
    "    if score > 1.9910:\n",
    "        return 2  # 正面\n",
    "    elif score < -2.0202:\n",
    "        return 0  # 负面\n",
    "    else:\n",
    "        return 1  # 中性\n",
    "    \n",
    "sentiment_udf = udf(sentiment_label, IntegerType())\n",
    "\n",
    "df = df.withColumn(\"label\", sentiment_udf(col(\"DocTone\")))\n",
    "\n",
    "# 统计各类别的数量\n",
    "label_counts = df.groupBy(\"label\").count().orderBy(\"label\")\n",
    "label_counts.show()"
   ],
   "id": "694f787557481223",
   "outputs": [
    {
     "name": "stderr",
     "output_type": "stream",
     "text": [
      "[Stage 14:>                 (0 + 1) / 1][Stage 24:>                 (0 + 1) / 1]\r"
     ]
    },
    {
     "name": "stdout",
     "output_type": "stream",
     "text": [
      "+-----+-------+\n",
      "|label|  count|\n",
      "+-----+-------+\n",
      "|    0|2297409|\n",
      "|    1|4586529|\n",
      "|    2|2301367|\n",
      "+-----+-------+\n",
      "\n"
     ]
    },
    {
     "name": "stderr",
     "output_type": "stream",
     "text": [
      "                                                                                \r"
     ]
    }
   ],
   "execution_count": 28
  },
  {
   "metadata": {
    "ExecuteTime": {
     "end_time": "2024-09-26T16:57:09.161221Z",
     "start_time": "2024-09-26T16:57:09.099983Z"
    }
   },
   "cell_type": "code",
   "source": [
    "# 分词\n",
    "tokenizer = Tokenizer(inputCol=\"ContextualText\", outputCol=\"words\")\n",
    "\n",
    "# 去除停用词\n",
    "remover = StopWordsRemover(inputCol=\"words\", outputCol=\"filtered_words\")\n",
    "\n",
    "# 特征提取（TF-IDF）\n",
    "hashingTF = HashingTF(inputCol=\"filtered_words\", outputCol=\"rawFeatures\", numFeatures=10000)\n",
    "idf = IDF(inputCol=\"rawFeatures\", outputCol=\"features\")\n",
    "\n",
    "# 建立机器学习管道\n",
    "pipeline = Pipeline(stages=[tokenizer, remover, hashingTF, idf])"
   ],
   "id": "b6e555dc98847cba",
   "outputs": [],
   "execution_count": 29
  },
  {
   "metadata": {
    "ExecuteTime": {
     "end_time": "2024-09-26T17:28:13.595306Z",
     "start_time": "2024-09-26T16:57:09.184385Z"
    }
   },
   "cell_type": "code",
   "source": [
    "# 将数据集分为训练集和测试集\n",
    "(trainingData, testData) = df.randomSplit([0.8, 0.2], seed=42)\n",
    "\n",
    "# 训练特征提取管道\n",
    "pipelineModel = pipeline.fit(trainingData)\n",
    "trainingData = pipelineModel.transform(trainingData)\n",
    "testData = pipelineModel.transform(testData)\n",
    "\n",
    "# 训练基线模型（逻辑回归）\n",
    "lr = LogisticRegression(featuresCol='features', labelCol='label', maxIter=10, family='multinomial')\n",
    "lrModel = lr.fit(trainingData)\n"
   ],
   "id": "9a662ee0f2990806",
   "outputs": [
    {
     "name": "stderr",
     "output_type": "stream",
     "text": [
      "24/09/27 01:17:56 WARN InstanceBuilder: Failed to load implementation from:dev.ludovic.netlib.blas.JNIBLAS\n",
      "24/09/27 01:18:50 WARN MemoryStore: Not enough space to cache rdd_164_0 in memory! (computed 17.0 MiB so far)\n",
      "24/09/27 01:18:50 WARN BlockManager: Persisting block rdd_164_0 to disk instead.\n",
      "24/09/27 01:26:14 WARN MemoryStore: Not enough space to cache rdd_164_0 in memory! (computed 419.2 MiB so far)\n",
      "24/09/27 01:26:21 WARN MemoryStore: Not enough space to cache rdd_164_0 in memory! (computed 419.2 MiB so far)\n",
      "24/09/27 01:26:31 WARN MemoryStore: Not enough space to cache rdd_164_0 in memory! (computed 419.2 MiB so far)\n",
      "24/09/27 01:26:40 WARN MemoryStore: Not enough space to cache rdd_164_0 in memory! (computed 419.2 MiB so far)\n",
      "24/09/27 01:26:52 WARN MemoryStore: Not enough space to cache rdd_164_0 in memory! (computed 419.2 MiB so far)\n",
      "24/09/27 01:27:03 WARN MemoryStore: Not enough space to cache rdd_164_0 in memory! (computed 419.2 MiB so far)\n",
      "24/09/27 01:27:15 WARN MemoryStore: Not enough space to cache rdd_164_0 in memory! (computed 419.2 MiB so far)\n",
      "24/09/27 01:27:27 WARN MemoryStore: Not enough space to cache rdd_164_0 in memory! (computed 419.2 MiB so far)\n",
      "24/09/27 01:27:38 WARN MemoryStore: Not enough space to cache rdd_164_0 in memory! (computed 419.2 MiB so far)\n",
      "24/09/27 01:27:50 WARN MemoryStore: Not enough space to cache rdd_164_0 in memory! (computed 419.2 MiB so far)\n",
      "24/09/27 01:28:02 WARN MemoryStore: Not enough space to cache rdd_164_0 in memory! (computed 419.2 MiB so far)\n",
      "                                                                                \r"
     ]
    }
   ],
   "execution_count": 30
  },
  {
   "metadata": {
    "ExecuteTime": {
     "end_time": "2024-09-26T17:28:31.310413Z",
     "start_time": "2024-09-26T17:28:31.285501Z"
    }
   },
   "cell_type": "code",
   "source": [
    "# 进行预测\n",
    "predictions = lrModel.transform(testData)"
   ],
   "id": "fe67b155c0a7174d",
   "outputs": [],
   "execution_count": 32
  },
  {
   "metadata": {
    "ExecuteTime": {
     "end_time": "2024-09-26T17:31:20.394620Z",
     "start_time": "2024-09-26T17:28:32.686726Z"
    }
   },
   "cell_type": "code",
   "source": [
    "# 评估模型\n",
    "evaluator = MulticlassClassificationEvaluator(labelCol=\"label\", predictionCol=\"prediction\", metricName=\"accuracy\")\n",
    "accuracy = evaluator.evaluate(predictions)\n",
    "print(\"Test Accuracy = %g \" % accuracy)"
   ],
   "id": "cb8ee3afffd73dc3",
   "outputs": [
    {
     "name": "stderr",
     "output_type": "stream",
     "text": [
      "[Stage 40:>                                                         (0 + 1) / 1]\r"
     ]
    },
    {
     "name": "stdout",
     "output_type": "stream",
     "text": [
      "Test Accuracy = 0.729166 \n"
     ]
    },
    {
     "name": "stderr",
     "output_type": "stream",
     "text": [
      "                                                                                \r"
     ]
    }
   ],
   "execution_count": 33
  },
  {
   "metadata": {
    "ExecuteTime": {
     "end_time": "2024-09-26T17:47:49.041369Z",
     "start_time": "2024-09-26T17:39:38.583842Z"
    }
   },
   "cell_type": "code",
   "source": [
    "# 查看精确率、召回率和F1分数\n",
    "evaluator_precision = MulticlassClassificationEvaluator(labelCol=\"label\", predictionCol=\"prediction\", metricName=\"weightedPrecision\")\n",
    "precision = evaluator_precision.evaluate(predictions)\n",
    "\n",
    "evaluator_recall = MulticlassClassificationEvaluator(labelCol=\"label\", predictionCol=\"prediction\", metricName=\"weightedRecall\")\n",
    "recall = evaluator_recall.evaluate(predictions)\n",
    "\n",
    "evaluator_f1 = MulticlassClassificationEvaluator(labelCol=\"label\", predictionCol=\"prediction\", metricName=\"f1\")\n",
    "f1 = evaluator_f1.evaluate(predictions)\n",
    "\n",
    "print(f\"Precision: {precision}\")\n",
    "print(f\"Recall: {recall}\")\n",
    "print(f\"F1 Score: {f1}\")"
   ],
   "id": "241313190236d066",
   "outputs": [
    {
     "name": "stderr",
     "output_type": "stream",
     "text": [
      "[Stage 52:>                                                         (0 + 1) / 1]\r"
     ]
    },
    {
     "name": "stdout",
     "output_type": "stream",
     "text": [
      "Precision: 0.7310097965622986\n",
      "Recall: 0.7291663150352512\n",
      "F1 Score: 0.728252326514687\n"
     ]
    },
    {
     "name": "stderr",
     "output_type": "stream",
     "text": [
      "                                                                                \r"
     ]
    }
   ],
   "execution_count": 35
  },
  {
   "metadata": {},
   "cell_type": "markdown",
   "source": "# Random Forest Classifier",
   "id": "209a985213b717f7"
  },
  {
   "metadata": {
    "ExecuteTime": {
     "start_time": "2024-09-26T17:49:14.195797Z"
    }
   },
   "cell_type": "code",
   "source": [
    "from pyspark.ml.classification import RandomForestClassifier\n",
    "\n",
    "# 将数据集分为训练集和测试集\n",
    "(trainingData, testData) = df.randomSplit([0.8, 0.2], seed=42)\n",
    "\n",
    "# 训练特征提取管道\n",
    "pipelineModel = pipeline.fit(trainingData)\n",
    "trainingData = pipelineModel.transform(trainingData)\n",
    "testData = pipelineModel.transform(testData)\n",
    "\n",
    "# 训练随机森林模型\n",
    "rf = RandomForestClassifier(featuresCol='features', labelCol='label', numTrees=100, maxDepth=5, seed=42)\n",
    "rfModel = rf.fit(trainingData)"
   ],
   "id": "83d662367bdd460d",
   "outputs": [
    {
     "name": "stderr",
     "output_type": "stream",
     "text": [
      "ERROR:root:KeyboardInterrupt while sending command.                 (0 + 1) / 1]\n",
      "Traceback (most recent call last):\n",
      "  File \"/Users/tedwu/anaconda3/envs/CS5344/lib/python3.11/site-packages/py4j/java_gateway.py\", line 1038, in send_command\n",
      "    response = connection.send_command(command)\n",
      "               ^^^^^^^^^^^^^^^^^^^^^^^^^^^^^^^^\n",
      "  File \"/Users/tedwu/anaconda3/envs/CS5344/lib/python3.11/site-packages/py4j/clientserver.py\", line 511, in send_command\n",
      "    answer = smart_decode(self.stream.readline()[:-1])\n",
      "                          ^^^^^^^^^^^^^^^^^^^^^^\n",
      "  File \"/Users/tedwu/anaconda3/envs/CS5344/lib/python3.11/socket.py\", line 706, in readinto\n",
      "    return self._sock.recv_into(b)\n",
      "           ^^^^^^^^^^^^^^^^^^^^^^^\n",
      "KeyboardInterrupt\n"
     ]
    },
    {
     "ename": "KeyboardInterrupt",
     "evalue": "",
     "output_type": "error",
     "traceback": [
      "\u001B[0;31m---------------------------------------------------------------------------\u001B[0m",
      "\u001B[0;31mKeyboardInterrupt\u001B[0m                         Traceback (most recent call last)",
      "Cell \u001B[0;32mIn[36], line 13\u001B[0m\n\u001B[1;32m     11\u001B[0m \u001B[38;5;66;03m# 训练随机森林模型\u001B[39;00m\n\u001B[1;32m     12\u001B[0m rf \u001B[38;5;241m=\u001B[39m RandomForestClassifier(featuresCol\u001B[38;5;241m=\u001B[39m\u001B[38;5;124m'\u001B[39m\u001B[38;5;124mfeatures\u001B[39m\u001B[38;5;124m'\u001B[39m, labelCol\u001B[38;5;241m=\u001B[39m\u001B[38;5;124m'\u001B[39m\u001B[38;5;124mlabel\u001B[39m\u001B[38;5;124m'\u001B[39m, numTrees\u001B[38;5;241m=\u001B[39m\u001B[38;5;241m100\u001B[39m, maxDepth\u001B[38;5;241m=\u001B[39m\u001B[38;5;241m5\u001B[39m, seed\u001B[38;5;241m=\u001B[39m\u001B[38;5;241m42\u001B[39m)\n\u001B[0;32m---> 13\u001B[0m rfModel \u001B[38;5;241m=\u001B[39m rf\u001B[38;5;241m.\u001B[39mfit(trainingData)\n",
      "File \u001B[0;32m~/anaconda3/envs/CS5344/lib/python3.11/site-packages/pyspark/ml/base.py:205\u001B[0m, in \u001B[0;36mEstimator.fit\u001B[0;34m(self, dataset, params)\u001B[0m\n\u001B[1;32m    203\u001B[0m         \u001B[38;5;28;01mreturn\u001B[39;00m \u001B[38;5;28mself\u001B[39m\u001B[38;5;241m.\u001B[39mcopy(params)\u001B[38;5;241m.\u001B[39m_fit(dataset)\n\u001B[1;32m    204\u001B[0m     \u001B[38;5;28;01melse\u001B[39;00m:\n\u001B[0;32m--> 205\u001B[0m         \u001B[38;5;28;01mreturn\u001B[39;00m \u001B[38;5;28mself\u001B[39m\u001B[38;5;241m.\u001B[39m_fit(dataset)\n\u001B[1;32m    206\u001B[0m \u001B[38;5;28;01melse\u001B[39;00m:\n\u001B[1;32m    207\u001B[0m     \u001B[38;5;28;01mraise\u001B[39;00m \u001B[38;5;167;01mTypeError\u001B[39;00m(\n\u001B[1;32m    208\u001B[0m         \u001B[38;5;124m\"\u001B[39m\u001B[38;5;124mParams must be either a param map or a list/tuple of param maps, \u001B[39m\u001B[38;5;124m\"\u001B[39m\n\u001B[1;32m    209\u001B[0m         \u001B[38;5;124m\"\u001B[39m\u001B[38;5;124mbut got \u001B[39m\u001B[38;5;132;01m%s\u001B[39;00m\u001B[38;5;124m.\u001B[39m\u001B[38;5;124m\"\u001B[39m \u001B[38;5;241m%\u001B[39m \u001B[38;5;28mtype\u001B[39m(params)\n\u001B[1;32m    210\u001B[0m     )\n",
      "File \u001B[0;32m~/anaconda3/envs/CS5344/lib/python3.11/site-packages/pyspark/ml/wrapper.py:381\u001B[0m, in \u001B[0;36mJavaEstimator._fit\u001B[0;34m(self, dataset)\u001B[0m\n\u001B[1;32m    380\u001B[0m \u001B[38;5;28;01mdef\u001B[39;00m \u001B[38;5;21m_fit\u001B[39m(\u001B[38;5;28mself\u001B[39m, dataset: DataFrame) \u001B[38;5;241m-\u001B[39m\u001B[38;5;241m>\u001B[39m JM:\n\u001B[0;32m--> 381\u001B[0m     java_model \u001B[38;5;241m=\u001B[39m \u001B[38;5;28mself\u001B[39m\u001B[38;5;241m.\u001B[39m_fit_java(dataset)\n\u001B[1;32m    382\u001B[0m     model \u001B[38;5;241m=\u001B[39m \u001B[38;5;28mself\u001B[39m\u001B[38;5;241m.\u001B[39m_create_model(java_model)\n\u001B[1;32m    383\u001B[0m     \u001B[38;5;28;01mreturn\u001B[39;00m \u001B[38;5;28mself\u001B[39m\u001B[38;5;241m.\u001B[39m_copyValues(model)\n",
      "File \u001B[0;32m~/anaconda3/envs/CS5344/lib/python3.11/site-packages/pyspark/ml/wrapper.py:378\u001B[0m, in \u001B[0;36mJavaEstimator._fit_java\u001B[0;34m(self, dataset)\u001B[0m\n\u001B[1;32m    375\u001B[0m \u001B[38;5;28;01massert\u001B[39;00m \u001B[38;5;28mself\u001B[39m\u001B[38;5;241m.\u001B[39m_java_obj \u001B[38;5;129;01mis\u001B[39;00m \u001B[38;5;129;01mnot\u001B[39;00m \u001B[38;5;28;01mNone\u001B[39;00m\n\u001B[1;32m    377\u001B[0m \u001B[38;5;28mself\u001B[39m\u001B[38;5;241m.\u001B[39m_transfer_params_to_java()\n\u001B[0;32m--> 378\u001B[0m \u001B[38;5;28;01mreturn\u001B[39;00m \u001B[38;5;28mself\u001B[39m\u001B[38;5;241m.\u001B[39m_java_obj\u001B[38;5;241m.\u001B[39mfit(dataset\u001B[38;5;241m.\u001B[39m_jdf)\n",
      "File \u001B[0;32m~/anaconda3/envs/CS5344/lib/python3.11/site-packages/py4j/java_gateway.py:1321\u001B[0m, in \u001B[0;36mJavaMember.__call__\u001B[0;34m(self, *args)\u001B[0m\n\u001B[1;32m   1314\u001B[0m args_command, temp_args \u001B[38;5;241m=\u001B[39m \u001B[38;5;28mself\u001B[39m\u001B[38;5;241m.\u001B[39m_build_args(\u001B[38;5;241m*\u001B[39margs)\n\u001B[1;32m   1316\u001B[0m command \u001B[38;5;241m=\u001B[39m proto\u001B[38;5;241m.\u001B[39mCALL_COMMAND_NAME \u001B[38;5;241m+\u001B[39m\\\n\u001B[1;32m   1317\u001B[0m     \u001B[38;5;28mself\u001B[39m\u001B[38;5;241m.\u001B[39mcommand_header \u001B[38;5;241m+\u001B[39m\\\n\u001B[1;32m   1318\u001B[0m     args_command \u001B[38;5;241m+\u001B[39m\\\n\u001B[1;32m   1319\u001B[0m     proto\u001B[38;5;241m.\u001B[39mEND_COMMAND_PART\n\u001B[0;32m-> 1321\u001B[0m answer \u001B[38;5;241m=\u001B[39m \u001B[38;5;28mself\u001B[39m\u001B[38;5;241m.\u001B[39mgateway_client\u001B[38;5;241m.\u001B[39msend_command(command)\n\u001B[1;32m   1322\u001B[0m return_value \u001B[38;5;241m=\u001B[39m get_return_value(\n\u001B[1;32m   1323\u001B[0m     answer, \u001B[38;5;28mself\u001B[39m\u001B[38;5;241m.\u001B[39mgateway_client, \u001B[38;5;28mself\u001B[39m\u001B[38;5;241m.\u001B[39mtarget_id, \u001B[38;5;28mself\u001B[39m\u001B[38;5;241m.\u001B[39mname)\n\u001B[1;32m   1325\u001B[0m \u001B[38;5;28;01mfor\u001B[39;00m temp_arg \u001B[38;5;129;01min\u001B[39;00m temp_args:\n",
      "File \u001B[0;32m~/anaconda3/envs/CS5344/lib/python3.11/site-packages/py4j/java_gateway.py:1038\u001B[0m, in \u001B[0;36mGatewayClient.send_command\u001B[0;34m(self, command, retry, binary)\u001B[0m\n\u001B[1;32m   1036\u001B[0m connection \u001B[38;5;241m=\u001B[39m \u001B[38;5;28mself\u001B[39m\u001B[38;5;241m.\u001B[39m_get_connection()\n\u001B[1;32m   1037\u001B[0m \u001B[38;5;28;01mtry\u001B[39;00m:\n\u001B[0;32m-> 1038\u001B[0m     response \u001B[38;5;241m=\u001B[39m connection\u001B[38;5;241m.\u001B[39msend_command(command)\n\u001B[1;32m   1039\u001B[0m     \u001B[38;5;28;01mif\u001B[39;00m binary:\n\u001B[1;32m   1040\u001B[0m         \u001B[38;5;28;01mreturn\u001B[39;00m response, \u001B[38;5;28mself\u001B[39m\u001B[38;5;241m.\u001B[39m_create_connection_guard(connection)\n",
      "File \u001B[0;32m~/anaconda3/envs/CS5344/lib/python3.11/site-packages/py4j/clientserver.py:511\u001B[0m, in \u001B[0;36mClientServerConnection.send_command\u001B[0;34m(self, command)\u001B[0m\n\u001B[1;32m    509\u001B[0m \u001B[38;5;28;01mtry\u001B[39;00m:\n\u001B[1;32m    510\u001B[0m     \u001B[38;5;28;01mwhile\u001B[39;00m \u001B[38;5;28;01mTrue\u001B[39;00m:\n\u001B[0;32m--> 511\u001B[0m         answer \u001B[38;5;241m=\u001B[39m smart_decode(\u001B[38;5;28mself\u001B[39m\u001B[38;5;241m.\u001B[39mstream\u001B[38;5;241m.\u001B[39mreadline()[:\u001B[38;5;241m-\u001B[39m\u001B[38;5;241m1\u001B[39m])\n\u001B[1;32m    512\u001B[0m         logger\u001B[38;5;241m.\u001B[39mdebug(\u001B[38;5;124m\"\u001B[39m\u001B[38;5;124mAnswer received: \u001B[39m\u001B[38;5;132;01m{0}\u001B[39;00m\u001B[38;5;124m\"\u001B[39m\u001B[38;5;241m.\u001B[39mformat(answer))\n\u001B[1;32m    513\u001B[0m         \u001B[38;5;66;03m# Happens when a the other end is dead. There might be an empty\u001B[39;00m\n\u001B[1;32m    514\u001B[0m         \u001B[38;5;66;03m# answer before the socket raises an error.\u001B[39;00m\n",
      "File \u001B[0;32m~/anaconda3/envs/CS5344/lib/python3.11/socket.py:706\u001B[0m, in \u001B[0;36mSocketIO.readinto\u001B[0;34m(self, b)\u001B[0m\n\u001B[1;32m    704\u001B[0m \u001B[38;5;28;01mwhile\u001B[39;00m \u001B[38;5;28;01mTrue\u001B[39;00m:\n\u001B[1;32m    705\u001B[0m     \u001B[38;5;28;01mtry\u001B[39;00m:\n\u001B[0;32m--> 706\u001B[0m         \u001B[38;5;28;01mreturn\u001B[39;00m \u001B[38;5;28mself\u001B[39m\u001B[38;5;241m.\u001B[39m_sock\u001B[38;5;241m.\u001B[39mrecv_into(b)\n\u001B[1;32m    707\u001B[0m     \u001B[38;5;28;01mexcept\u001B[39;00m timeout:\n\u001B[1;32m    708\u001B[0m         \u001B[38;5;28mself\u001B[39m\u001B[38;5;241m.\u001B[39m_timeout_occurred \u001B[38;5;241m=\u001B[39m \u001B[38;5;28;01mTrue\u001B[39;00m\n",
      "\u001B[0;31mKeyboardInterrupt\u001B[0m: "
     ]
    }
   ],
   "execution_count": 36
  },
  {
   "metadata": {},
   "cell_type": "code",
   "outputs": [],
   "execution_count": null,
   "source": [
    "# 进行预测\n",
    "predictions = rfModel.transform(testData)"
   ],
   "id": "d2225d7e387c7281"
  },
  {
   "metadata": {},
   "cell_type": "code",
   "outputs": [],
   "execution_count": null,
   "source": [
    "# 评估模型\n",
    "evaluator = MulticlassClassificationEvaluator(labelCol=\"label\", predictionCol=\"prediction\", metricName=\"accuracy\")\n",
    "accuracy = evaluator.evaluate(predictions)\n",
    "print(\"Test Accuracy = %g \" % accuracy)"
   ],
   "id": "f208f3185929ba14"
  }
 ],
 "metadata": {
  "kernelspec": {
   "display_name": "Python 3",
   "language": "python",
   "name": "python3"
  },
  "language_info": {
   "codemirror_mode": {
    "name": "ipython",
    "version": 2
   },
   "file_extension": ".py",
   "mimetype": "text/x-python",
   "name": "python",
   "nbconvert_exporter": "python",
   "pygments_lexer": "ipython2",
   "version": "2.7.6"
  }
 },
 "nbformat": 4,
 "nbformat_minor": 5
}
