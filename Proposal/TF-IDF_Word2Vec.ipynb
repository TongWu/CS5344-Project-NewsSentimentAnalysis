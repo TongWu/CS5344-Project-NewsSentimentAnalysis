{
 "cells": [
  {
   "cell_type": "code",
   "id": "initial_id",
   "metadata": {
    "collapsed": true,
    "ExecuteTime": {
     "end_time": "2024-09-26T18:16:29.147836Z",
     "start_time": "2024-09-26T18:16:29.065591Z"
    }
   },
   "source": [
    "from pyspark.sql import SparkSession\n",
    "from pyspark.sql.functions import col, udf, when, isnan, isnull\n",
    "from pyspark.sql.types import IntegerType, StringType, FloatType\n",
    "from pyspark.ml.feature import Tokenizer, StopWordsRemover, HashingTF, IDF, StringIndexer\n",
    "from pyspark.ml.classification import LogisticRegression\n",
    "from pyspark.ml import Pipeline\n",
    "from pyspark.ml.evaluation import MulticlassClassificationEvaluator"
   ],
   "outputs": [],
   "execution_count": 1
  },
  {
   "metadata": {
    "ExecuteTime": {
     "end_time": "2024-09-26T18:16:33.351353Z",
     "start_time": "2024-09-26T18:16:31.285498Z"
    }
   },
   "cell_type": "code",
   "source": [
    "spark = SparkSession.builder.appName(\n",
    "            \"SentimentAnalysisBaseline\"\n",
    "        ).config(\n",
    "            \"spark.executor.memory\", \"16g\"\n",
    "        ).config(\n",
    "            \"spark.driver.memory\", \"32g\"\n",
    "        ).getOrCreate()"
   ],
   "id": "ad21603dd51ffa5a",
   "outputs": [
    {
     "name": "stderr",
     "output_type": "stream",
     "text": [
      "Setting default log level to \"WARN\".\n",
      "To adjust logging level use sc.setLogLevel(newLevel). For SparkR, use setLogLevel(newLevel).\n",
      "24/09/27 02:16:32 WARN NativeCodeLoader: Unable to load native-hadoop library for your platform... using builtin-java classes where applicable\n"
     ]
    }
   ],
   "execution_count": 2
  },
  {
   "metadata": {
    "ExecuteTime": {
     "end_time": "2024-09-26T18:17:20.710193Z",
     "start_time": "2024-09-26T18:16:58.653261Z"
    }
   },
   "cell_type": "code",
   "source": "df = spark.read.csv(\"../ggg_sg.csv\", header=True, inferSchema=True, multiLine=True, escape='\"')",
   "id": "fdf1dbc734b85dea",
   "outputs": [
    {
     "name": "stderr",
     "output_type": "stream",
     "text": [
      "                                                                                \r"
     ]
    }
   ],
   "execution_count": 4
  },
  {
   "metadata": {
    "ExecuteTime": {
     "end_time": "2024-09-26T18:17:21.315729Z",
     "start_time": "2024-09-26T18:17:20.734305Z"
    }
   },
   "cell_type": "code",
   "source": "df.show()",
   "id": "2f247d8b0d114048",
   "outputs": [
    {
     "name": "stdout",
     "output_type": "stream",
     "text": [
      "+-------------------+--------------------+--------------------+--------------------+--------+-----------------+-----------------+---------+------+-----+-----------+--------+--------+-------+--------------------+-------------------+\n",
      "|           DateTime|                 URL|               Title|        SharingImage|LangCode|          DocTone|DomainCountryCode| Location|   Lat|  Lon|CountryCode|Adm1Code|Adm2Code|GeoType|      ContextualText|           the_geom|\n",
      "+-------------------+--------------------+--------------------+--------------------+--------+-----------------+-----------------+---------+------+-----+-----------+--------+--------+-------+--------------------+-------------------+\n",
      "|2022-08-18 19:15:00|https://www.goal....|How to watch Manc...|https://assets.go...|     eng|0.764331210191083|               SP|Singapore|1.3667|103.8|         SN|      SN|    null|      1|nunez added to kl...|POINT(103.8 1.3667)|\n",
      "|2021-03-09 01:30:00|https://www.labma...|Vetter Announces ...|https://www.labma...|     eng| 3.08483290488432|               UK|Singapore|1.3667|103.8|         SN|      SN|    null|      1|director key acco...|POINT(103.8 1.3667)|\n",
      "|2018-05-26 13:30:00|http://www.cotswo...|Summit after all ...|http://www.cotswo...|     eng|              0.0|               UK|Singapore|1.3667|103.8|         SN|      SN|    null|      1|trump has said ve...|POINT(103.8 1.3667)|\n",
      "|2018-06-04 23:30:00|http://www.dailym...|Official organizi...|http://i.dailymai...|     eng|-0.15600624024961|               UK|Singapore|1.3667|103.8|         SN|      SN|    null|      1|south lawn follow...|POINT(103.8 1.3667)|\n",
      "|2019-06-18 14:00:00|https://www.strai...|German firm Evoni...|https://www.strai...|     eng|0.568990042674253|               SN|Singapore|1.3667|103.8|         SN|      SN|    null|      1|german chemical g...|POINT(103.8 1.3667)|\n",
      "|2017-05-12 06:30:00|http://www.tnp.sg...|Hard work pays of...|http://www.tnp.sg...|     eng|  2.2964509394572|               SN|Singapore|1.3667|103.8|         SN|      SN|    null|      1|is hard work and ...|POINT(103.8 1.3667)|\n",
      "|2020-10-02 08:45:00|https://www.asiao...|Man dies after 3 ...|https://media.asi...|     eng|-3.25379609544469|               SN|Singapore|1.3667|103.8|         SN|      SN|    null|      1|on sept 17 two wo...|POINT(103.8 1.3667)|\n",
      "|2018-11-30 07:30:00|https://www.busin...|It time to consid...|https://www.busin...|     eng|  1.0806916426513|               SN|Singapore|1.3667|103.8|         SN|      SN|    null|      1|competition betwe...|POINT(103.8 1.3667)|\n",
      "|2019-03-26 16:30:00|https://news.cisi...|Storytel launches...|                null|     eng| 2.27272727272727|               SW|Singapore|1.3667|103.8|         SN|      SN|    null|      1|is the 16th marke...|POINT(103.8 1.3667)|\n",
      "|2020-08-06 19:00:00|https://www.ig.co...|EUR / USD edges b...|https://a.c-dn.ne...|     eng|  1.0752688172043|               UK|Singapore|1.3667|103.8|         SN|      SN|    null|      1|may distribute in...|POINT(103.8 1.3667)|\n",
      "|2018-08-02 05:30:00|http://yourelecti...|Opteck binary opt...|                null|     eng| 1.15562403697997|               UK|Singapore|1.3667|103.8|         SN|      SN|    null|      1|at all the former...|POINT(103.8 1.3667)|\n",
      "|2017-10-31 02:00:00|http://www.asiaon...|BETADINE ( R ) 10...|http://www.asiaon...|     eng|  2.7063599458728|               SN|Singapore|1.3667|103.8|         SN|      SN|    null|      1|after the first m...|POINT(103.8 1.3667)|\n",
      "|2020-06-18 14:45:00|https://www.strai...|Migrant workers m...|https://www.strai...|     eng|-2.40641711229946|               SN|Singapore|1.3667|103.8|         SN|      SN|    null|      1|migrant workers m...|POINT(103.8 1.3667)|\n",
      "|2019-07-30 20:00:00|https://www.strai...|Pilot programme t...|https://www.strai...|     eng| 2.69299820466786|               SN|Singapore|1.3667|103.8|         SN|      SN|    null|      1|foreign professio...|POINT(103.8 1.3667)|\n",
      "|2018-06-14 18:15:00|http://www.asiaon...| ' Where is Singa...|http://www.asiaon...|     eng|0.441501103752759|               SN|Singapore|1.3667|103.8|         SN|      SN|    null|      1|east asian city s...|POINT(103.8 1.3667)|\n",
      "|2021-03-03 07:45:00|https://www.strai...|22 applications f...|https://www.strai...|     eng| 3.84615384615385|               SN|Singapore|1.3667|103.8|         SN|      SN|    null|      1|pass approvals an...|POINT(103.8 1.3667)|\n",
      "|2023-02-06 14:30:00|https://www.singa...|Why are wealthy I...|https://cdn.bigne...|     eng| 2.40963855421687|               SN|Singapore|1.3667|103.8|         SN|      SN|    null|      1|data is available...|POINT(103.8 1.3667)|\n",
      "|2017-08-07 12:30:00|http://sglinks.co...|Fintech investmen...|http://static.sgl...|     eng|0.275482093663912|               SN|Singapore|1.3667|103.8|         SN|      SN|    null|      1|authority of sing...|POINT(103.8 1.3667)|\n",
      "|2019-12-07 07:45:00|http://theindepen...|WP member asks On...|http://theindepen...|     eng|-2.44186046511628|               SN|Singapore|1.3667|103.8|         SN|      SN|    null|      1|of singapore poly...|POINT(103.8 1.3667)|\n",
      "|2021-04-09 01:45:00|https://www.manil...|Petron plans perp...|https://www.manil...|     eng|-1.63934426229508|               RP|Singapore|1.3667|103.8|         SN|      SN|    null|      1|that its executiv...|POINT(103.8 1.3667)|\n",
      "+-------------------+--------------------+--------------------+--------------------+--------+-----------------+-----------------+---------+------+-----+-----------+--------+--------+-------+--------------------+-------------------+\n",
      "only showing top 20 rows\n",
      "\n"
     ]
    }
   ],
   "execution_count": 5
  },
  {
   "metadata": {
    "ExecuteTime": {
     "end_time": "2024-09-26T18:17:21.348680Z",
     "start_time": "2024-09-26T18:17:21.338121Z"
    }
   },
   "cell_type": "code",
   "source": [
    "df = df.filter(df.ContextualText.isNotNull())\n",
    "df = df.filter(df.DocTone.isNotNull())"
   ],
   "id": "a081f8f0c1dd10a5",
   "outputs": [],
   "execution_count": 6
  },
  {
   "metadata": {
    "ExecuteTime": {
     "end_time": "2024-09-26T18:17:21.431992Z",
     "start_time": "2024-09-26T18:17:21.413235Z"
    }
   },
   "cell_type": "code",
   "source": "df = df.withColumn(\"DocTone\", df[\"DocTone\"].cast(FloatType()))",
   "id": "7a0cf6e2d0fcc816",
   "outputs": [],
   "execution_count": 7
  },
  {
   "metadata": {
    "ExecuteTime": {
     "end_time": "2024-09-26T18:17:21.579508Z",
     "start_time": "2024-09-26T18:17:21.452152Z"
    }
   },
   "cell_type": "code",
   "source": "df.show(10)",
   "id": "6a97c1490d3dfce6",
   "outputs": [
    {
     "name": "stdout",
     "output_type": "stream",
     "text": [
      "+-------------------+--------------------+--------------------+--------------------+--------+-----------+-----------------+---------+------+-----+-----------+--------+--------+-------+--------------------+-------------------+\n",
      "|           DateTime|                 URL|               Title|        SharingImage|LangCode|    DocTone|DomainCountryCode| Location|   Lat|  Lon|CountryCode|Adm1Code|Adm2Code|GeoType|      ContextualText|           the_geom|\n",
      "+-------------------+--------------------+--------------------+--------------------+--------+-----------+-----------------+---------+------+-----+-----------+--------+--------+-------+--------------------+-------------------+\n",
      "|2022-08-18 19:15:00|https://www.goal....|How to watch Manc...|https://assets.go...|     eng|  0.7643312|               SP|Singapore|1.3667|103.8|         SN|      SN|    null|      1|nunez added to kl...|POINT(103.8 1.3667)|\n",
      "|2021-03-09 01:30:00|https://www.labma...|Vetter Announces ...|https://www.labma...|     eng|   3.084833|               UK|Singapore|1.3667|103.8|         SN|      SN|    null|      1|director key acco...|POINT(103.8 1.3667)|\n",
      "|2018-05-26 13:30:00|http://www.cotswo...|Summit after all ...|http://www.cotswo...|     eng|        0.0|               UK|Singapore|1.3667|103.8|         SN|      SN|    null|      1|trump has said ve...|POINT(103.8 1.3667)|\n",
      "|2018-06-04 23:30:00|http://www.dailym...|Official organizi...|http://i.dailymai...|     eng|-0.15600625|               UK|Singapore|1.3667|103.8|         SN|      SN|    null|      1|south lawn follow...|POINT(103.8 1.3667)|\n",
      "|2019-06-18 14:00:00|https://www.strai...|German firm Evoni...|https://www.strai...|     eng| 0.56899005|               SN|Singapore|1.3667|103.8|         SN|      SN|    null|      1|german chemical g...|POINT(103.8 1.3667)|\n",
      "|2017-05-12 06:30:00|http://www.tnp.sg...|Hard work pays of...|http://www.tnp.sg...|     eng|  2.2964509|               SN|Singapore|1.3667|103.8|         SN|      SN|    null|      1|is hard work and ...|POINT(103.8 1.3667)|\n",
      "|2020-10-02 08:45:00|https://www.asiao...|Man dies after 3 ...|https://media.asi...|     eng|  -3.253796|               SN|Singapore|1.3667|103.8|         SN|      SN|    null|      1|on sept 17 two wo...|POINT(103.8 1.3667)|\n",
      "|2018-11-30 07:30:00|https://www.busin...|It time to consid...|https://www.busin...|     eng|  1.0806917|               SN|Singapore|1.3667|103.8|         SN|      SN|    null|      1|competition betwe...|POINT(103.8 1.3667)|\n",
      "|2019-03-26 16:30:00|https://news.cisi...|Storytel launches...|                null|     eng|  2.2727273|               SW|Singapore|1.3667|103.8|         SN|      SN|    null|      1|is the 16th marke...|POINT(103.8 1.3667)|\n",
      "|2020-08-06 19:00:00|https://www.ig.co...|EUR / USD edges b...|https://a.c-dn.ne...|     eng|  1.0752689|               UK|Singapore|1.3667|103.8|         SN|      SN|    null|      1|may distribute in...|POINT(103.8 1.3667)|\n",
      "+-------------------+--------------------+--------------------+--------------------+--------+-----------+-----------------+---------+------+-----+-----------+--------+--------+-------+--------------------+-------------------+\n",
      "only showing top 10 rows\n",
      "\n"
     ]
    }
   ],
   "execution_count": 8
  },
  {
   "metadata": {},
   "cell_type": "markdown",
   "source": "# Exploratory Data Analysis (DocTone)",
   "id": "296e08707ea46af3"
  },
  {
   "metadata": {
    "ExecuteTime": {
     "end_time": "2024-09-26T18:17:40.173129Z",
     "start_time": "2024-09-26T18:17:25.410197Z"
    }
   },
   "cell_type": "code",
   "source": [
    "from pyspark.sql.functions import col, min, max, avg, stddev, percentile_approx\n",
    "\n",
    "stats = df.select(\n",
    "    min(col(\"DocTone\")).alias(\"min_DocTone\"),\n",
    "    max(col(\"DocTone\")).alias(\"max_DocTone\"),\n",
    "    avg(col(\"DocTone\")).alias(\"avg_DocTone\"),\n",
    "    stddev(col(\"DocTone\")).alias(\"stddev_DocTone\")\n",
    ").collect()[0]\n",
    "\n",
    "print(\"DocTone Statistics:\")\n",
    "print(f\"Min: {stats['min_DocTone']}\")\n",
    "print(f\"Max: {stats['max_DocTone']}\")\n",
    "print(f\"Average: {stats['avg_DocTone']}\")\n",
    "print(f\"Standard Deviation: {stats['stddev_DocTone']}\")\n"
   ],
   "id": "51c7b7febc1023be",
   "outputs": [
    {
     "name": "stderr",
     "output_type": "stream",
     "text": [
      "[Stage 4:>                                                          (0 + 1) / 1]\r"
     ]
    },
    {
     "name": "stdout",
     "output_type": "stream",
     "text": [
      "DocTone Statistics:\n",
      "Min: -28.947368621826172\n",
      "Max: 34.78260803222656\n",
      "Average: -0.03639324925228623\n",
      "Standard Deviation: 3.1345220942204715\n"
     ]
    },
    {
     "name": "stderr",
     "output_type": "stream",
     "text": [
      "                                                                                \r"
     ]
    }
   ],
   "execution_count": 9
  },
  {
   "metadata": {
    "ExecuteTime": {
     "end_time": "2024-09-26T18:17:56.564709Z",
     "start_time": "2024-09-26T18:17:40.194178Z"
    }
   },
   "cell_type": "code",
   "source": [
    "# Calculate quantiles\n",
    "quantiles = [0.0, 0.25, 0.5, 0.75, 1.0]\n",
    "\n",
    "# Calculate quantiles using approxQuantile\n",
    "quantile_values = df.approxQuantile(\"DocTone\", quantiles, relativeError=0.001)\n",
    "\n",
    "# Print quantiles\n",
    "for q, value in zip(quantiles, quantile_values):\n",
    "    print(f\"{int(q*100)}th percentile: {value}\")\n"
   ],
   "id": "3f0e5f9303086332",
   "outputs": [
    {
     "name": "stderr",
     "output_type": "stream",
     "text": [
      "[Stage 7:>                                                          (0 + 1) / 1]\r"
     ]
    },
    {
     "name": "stdout",
     "output_type": "stream",
     "text": [
      "0th percentile: -28.947368621826172\n",
      "25th percentile: -2.0202019214630127\n",
      "50th percentile: 0.0\n",
      "75th percentile: 1.9910084009170532\n",
      "100th percentile: 34.78260803222656\n"
     ]
    },
    {
     "name": "stderr",
     "output_type": "stream",
     "text": [
      "                                                                                \r"
     ]
    }
   ],
   "execution_count": 10
  },
  {
   "metadata": {
    "ExecuteTime": {
     "end_time": "2024-09-26T18:18:11.367910Z",
     "start_time": "2024-09-26T18:17:56.579990Z"
    }
   },
   "cell_type": "code",
   "source": [
    "# Sample data for visualization (100,000 samples)\n",
    "sample_df = df.select(\"DocTone\").sample(False, 0.01, seed=42).limit(100000)\n",
    "\n",
    "# Collect DocTone values\n",
    "doc_tone_values = sample_df.rdd.map(lambda row: row['DocTone']).collect()\n",
    "\n",
    "import matplotlib.pyplot as plt\n",
    "import seaborn as sns\n",
    "\n",
    "# Plot distribution of DocTone scores\n",
    "plt.figure(figsize=(10, 6))\n",
    "sns.histplot(doc_tone_values, bins=50, kde=True)\n",
    "plt.title('Distribution of DocTone Scores (Sampled Data)')\n",
    "plt.xlabel('DocTone Score')\n",
    "plt.ylabel('Frequency')\n",
    "plt.show()\n"
   ],
   "id": "6b7dbb8a93d3cea8",
   "outputs": [
    {
     "name": "stderr",
     "output_type": "stream",
     "text": [
      "                                                                                \r"
     ]
    },
    {
     "data": {
      "text/plain": [
       "<Figure size 1000x600 with 1 Axes>"
      ],
      "image/png": "[encoded data removed]"
     },
     "metadata": {},
     "output_type": "display_data"
    }
   ],
   "execution_count": 11
  },
  {
   "metadata": {},
   "cell_type": "markdown",
   "source": [
    "DocTone Statistics:\n",
    "\n",
    "Min: -28.947368621826172\n",
    "\n",
    "Max: 34.78260803222656\n",
    "\n",
    "Average: -0.03639324925228623\n",
    "\n",
    "Standard Deviation: 3.1345220942204715\n",
    "\n",
    "0th percentile: -28.947368621826172\n",
    "\n",
    "25th percentile: -2.0202019214630127\n",
    "\n",
    "50th percentile: 0.0\n",
    "\n",
    "75th percentile: 1.9910084009170532\n",
    "\n",
    "100th percentile: 34.78260803222656"
   ],
   "id": "41cae58c5d07fe1"
  },
  {
   "metadata": {},
   "cell_type": "markdown",
   "source": "# TF-IDF + Logistic Regression",
   "id": "5623ea272d29b44f"
  },
  {
   "metadata": {
    "ExecuteTime": {
     "end_time": "2024-09-26T16:57:09.016232Z",
     "start_time": "2024-09-26T16:56:49.854971Z"
    }
   },
   "cell_type": "code",
   "source": [
    "# Create sentiment label: Positive (2), Neutral (1), Negative (0)\n",
    "def sentiment_label(score):\n",
    "    if score > 1.9910:\n",
    "        return 2\n",
    "    elif score < -2.0202:\n",
    "        return 0\n",
    "    else:\n",
    "        return 1\n",
    "    \n",
    "sentiment_udf = udf(sentiment_label, IntegerType())\n",
    "\n",
    "df = df.withColumn(\"label\", sentiment_udf(col(\"DocTone\")))\n",
    "\n",
    "label_counts = df.groupBy(\"label\").count().orderBy(\"label\")\n",
    "label_counts.show()"
   ],
   "id": "694f787557481223",
   "outputs": [
    {
     "name": "stderr",
     "output_type": "stream",
     "text": [
      "[Stage 14:>                 (0 + 1) / 1][Stage 24:>                 (0 + 1) / 1]\r"
     ]
    },
    {
     "name": "stdout",
     "output_type": "stream",
     "text": [
      "+-----+-------+\n",
      "|label|  count|\n",
      "+-----+-------+\n",
      "|    0|2297409|\n",
      "|    1|4586529|\n",
      "|    2|2301367|\n",
      "+-----+-------+\n",
      "\n"
     ]
    },
    {
     "name": "stderr",
     "output_type": "stream",
     "text": [
      "                                                                                \r"
     ]
    }
   ],
   "execution_count": 28
  },
  {
   "metadata": {
    "ExecuteTime": {
     "end_time": "2024-09-26T16:57:09.161221Z",
     "start_time": "2024-09-26T16:57:09.099983Z"
    }
   },
   "cell_type": "code",
   "source": [
    "# Tokenize\n",
    "tokenizer = Tokenizer(inputCol=\"ContextualText\", outputCol=\"words\")\n",
    "\n",
    "# Remove stop words\n",
    "remover = StopWordsRemover(inputCol=\"words\", outputCol=\"filtered_words\")\n",
    "\n",
    "# Feature extraction (TF-IDF)\n",
    "hashingTF = HashingTF(inputCol=\"filtered_words\", outputCol=\"rawFeatures\", numFeatures=10000)\n",
    "idf = IDF(inputCol=\"rawFeatures\", outputCol=\"features\")\n",
    "\n",
    "pipeline = Pipeline(stages=[tokenizer, remover, hashingTF, idf])"
   ],
   "id": "b6e555dc98847cba",
   "outputs": [],
   "execution_count": 29
  },
  {
   "metadata": {
    "ExecuteTime": {
     "end_time": "2024-09-26T17:28:13.595306Z",
     "start_time": "2024-09-26T16:57:09.184385Z"
    }
   },
   "cell_type": "code",
   "source": [
    "(trainingData, testData) = df.randomSplit([0.8, 0.2], seed=42)\n",
    "\n",
    "pipelineModel = pipeline.fit(trainingData)\n",
    "trainingData = pipelineModel.transform(trainingData)\n",
    "testData = pipelineModel.transform(testData)\n",
    "\n",
    "# Train logistic regression model\n",
    "lr = LogisticRegression(featuresCol='features', labelCol='label', maxIter=10, family='multinomial')\n",
    "lrModel = lr.fit(trainingData)\n"
   ],
   "id": "9a662ee0f2990806",
   "outputs": [
    {
     "name": "stderr",
     "output_type": "stream",
     "text": [
      "24/09/27 01:17:56 WARN InstanceBuilder: Failed to load implementation from:dev.ludovic.netlib.blas.JNIBLAS\n",
      "24/09/27 01:18:50 WARN MemoryStore: Not enough space to cache rdd_164_0 in memory! (computed 17.0 MiB so far)\n",
      "24/09/27 01:18:50 WARN BlockManager: Persisting block rdd_164_0 to disk instead.\n",
      "24/09/27 01:26:14 WARN MemoryStore: Not enough space to cache rdd_164_0 in memory! (computed 419.2 MiB so far)\n",
      "24/09/27 01:26:21 WARN MemoryStore: Not enough space to cache rdd_164_0 in memory! (computed 419.2 MiB so far)\n",
      "24/09/27 01:26:31 WARN MemoryStore: Not enough space to cache rdd_164_0 in memory! (computed 419.2 MiB so far)\n",
      "24/09/27 01:26:40 WARN MemoryStore: Not enough space to cache rdd_164_0 in memory! (computed 419.2 MiB so far)\n",
      "24/09/27 01:26:52 WARN MemoryStore: Not enough space to cache rdd_164_0 in memory! (computed 419.2 MiB so far)\n",
      "24/09/27 01:27:03 WARN MemoryStore: Not enough space to cache rdd_164_0 in memory! (computed 419.2 MiB so far)\n",
      "24/09/27 01:27:15 WARN MemoryStore: Not enough space to cache rdd_164_0 in memory! (computed 419.2 MiB so far)\n",
      "24/09/27 01:27:27 WARN MemoryStore: Not enough space to cache rdd_164_0 in memory! (computed 419.2 MiB so far)\n",
      "24/09/27 01:27:38 WARN MemoryStore: Not enough space to cache rdd_164_0 in memory! (computed 419.2 MiB so far)\n",
      "24/09/27 01:27:50 WARN MemoryStore: Not enough space to cache rdd_164_0 in memory! (computed 419.2 MiB so far)\n",
      "24/09/27 01:28:02 WARN MemoryStore: Not enough space to cache rdd_164_0 in memory! (computed 419.2 MiB so far)\n",
      "                                                                                \r"
     ]
    }
   ],
   "execution_count": 30
  },
  {
   "metadata": {
    "ExecuteTime": {
     "end_time": "2024-09-26T17:28:31.310413Z",
     "start_time": "2024-09-26T17:28:31.285501Z"
    }
   },
   "cell_type": "code",
   "source": [
    "# Make predictions\n",
    "predictions = lrModel.transform(testData)"
   ],
   "id": "fe67b155c0a7174d",
   "outputs": [],
   "execution_count": 32
  },
  {
   "metadata": {
    "ExecuteTime": {
     "end_time": "2024-09-26T17:31:20.394620Z",
     "start_time": "2024-09-26T17:28:32.686726Z"
    }
   },
   "cell_type": "code",
   "source": [
    "# Evaluate model\n",
    "evaluator = MulticlassClassificationEvaluator(labelCol=\"label\", predictionCol=\"prediction\", metricName=\"accuracy\")\n",
    "accuracy = evaluator.evaluate(predictions)\n",
    "print(\"Test Accuracy = %g \" % accuracy)"
   ],
   "id": "cb8ee3afffd73dc3",
   "outputs": [
    {
     "name": "stderr",
     "output_type": "stream",
     "text": [
      "[Stage 40:>                                                         (0 + 1) / 1]\r"
     ]
    },
    {
     "name": "stdout",
     "output_type": "stream",
     "text": [
      "Test Accuracy = 0.729166 \n"
     ]
    },
    {
     "name": "stderr",
     "output_type": "stream",
     "text": [
      "                                                                                \r"
     ]
    }
   ],
   "execution_count": 33
  },
  {
   "metadata": {
    "ExecuteTime": {
     "end_time": "2024-09-26T17:47:49.041369Z",
     "start_time": "2024-09-26T17:39:38.583842Z"
    }
   },
   "cell_type": "code",
   "source": [
    "# Detailed evaluation\n",
    "evaluator_precision = MulticlassClassificationEvaluator(labelCol=\"label\", predictionCol=\"prediction\", metricName=\"weightedPrecision\")\n",
    "precision = evaluator_precision.evaluate(predictions)\n",
    "\n",
    "evaluator_recall = MulticlassClassificationEvaluator(labelCol=\"label\", predictionCol=\"prediction\", metricName=\"weightedRecall\")\n",
    "recall = evaluator_recall.evaluate(predictions)\n",
    "\n",
    "evaluator_f1 = MulticlassClassificationEvaluator(labelCol=\"label\", predictionCol=\"prediction\", metricName=\"f1\")\n",
    "f1 = evaluator_f1.evaluate(predictions)\n",
    "\n",
    "print(f\"Precision: {precision}\")\n",
    "print(f\"Recall: {recall}\")\n",
    "print(f\"F1 Score: {f1}\")"
   ],
   "id": "241313190236d066",
   "outputs": [
    {
     "name": "stderr",
     "output_type": "stream",
     "text": [
      "[Stage 52:>                                                         (0 + 1) / 1]\r"
     ]
    },
    {
     "name": "stdout",
     "output_type": "stream",
     "text": [
      "Precision: 0.7310097965622986\n",
      "Recall: 0.7291663150352512\n",
      "F1 Score: 0.728252326514687\n"
     ]
    },
    {
     "name": "stderr",
     "output_type": "stream",
     "text": [
      "                                                                                \r"
     ]
    }
   ],
   "execution_count": 35
  },
  {
   "metadata": {},
   "cell_type": "markdown",
   "source": "# Word2Vec + Random Forest",
   "id": "209a985213b717f7"
  },
  {
   "metadata": {
    "jupyter": {
     "is_executing": true
    },
    "ExecuteTime": {
     "start_time": "2024-09-26T18:21:31.964526Z"
    }
   },
   "cell_type": "code",
   "source": [
    "from pyspark.ml.feature import Word2Vec\n",
    "from pyspark.ml.classification import RandomForestClassifier\n",
    "\n",
    "# Create sentiment label: Positive (2), Neutral (1), Negative (0)\n",
    "def sentiment_label(score):\n",
    "    if score > 1.9910:\n",
    "        return 2\n",
    "    elif score < -2.0202:\n",
    "        return 0\n",
    "    else:\n",
    "        return 1\n",
    "    \n",
    "sentiment_udf = udf(sentiment_label, IntegerType())\n",
    "\n",
    "df = df.withColumn(\"label\", sentiment_udf(col(\"DocTone\")))\n",
    "tokenizer = Tokenizer(inputCol=\"ContextualText\", outputCol=\"words\")\n",
    "remover = StopWordsRemover(inputCol=\"words\", outputCol=\"filtered_words\")\n",
    "# Feature extraction (Word2Vec)\n",
    "word2Vec = Word2Vec(vectorSize=100, minCount=5, inputCol=\"filtered_words\", outputCol=\"features\")\n",
    "\n",
    "pipeline = Pipeline(stages=[tokenizer, remover, word2Vec])\n",
    "(trainingData, testData) = df.randomSplit([0.8, 0.2], seed=42)\n",
    "\n",
    "pipelineModel = pipeline.fit(trainingData)\n",
    "trainingData = pipelineModel.transform(trainingData)\n",
    "testData = pipelineModel.transform(testData)\n",
    "\n",
    "# Random Forest model\n",
    "rf = RandomForestClassifier(featuresCol='features', labelCol='label', numTrees=50, maxDepth=10, seed=42)\n",
    "\n",
    "rfModel = rf.fit(trainingData)"
   ],
   "id": "79f7bdc7b29b1fbc",
   "outputs": [
    {
     "name": "stderr",
     "output_type": "stream",
     "text": [
      "24/09/27 02:30:58 WARN InstanceBuilder: Failed to load implementation from:dev.ludovic.netlib.blas.JNIBLAS\n",
      "[Stage 12:>                                                         (0 + 1) / 1]\r"
     ]
    }
   ],
   "execution_count": null
  },
  {
   "metadata": {},
   "cell_type": "code",
   "outputs": [],
   "execution_count": null,
   "source": "predictions = rfModel.transform(testData)",
   "id": "d2225d7e387c7281"
  },
  {
   "metadata": {},
   "cell_type": "code",
   "outputs": [],
   "execution_count": null,
   "source": [
    "# Evaluate model\n",
    "evaluator = MulticlassClassificationEvaluator(labelCol=\"label\", predictionCol=\"prediction\", metricName=\"accuracy\")\n",
    "accuracy = evaluator.evaluate(predictions)\n",
    "print(\"Test Accuracy = %g \" % accuracy)\n",
    "\n",
    "# Detailed evaluation\n",
    "evaluator_precision = MulticlassClassificationEvaluator(labelCol=\"label\", predictionCol=\"prediction\", metricName=\"weightedPrecision\")\n",
    "precision = evaluator_precision.evaluate(predictions)\n",
    "\n",
    "evaluator_recall = MulticlassClassificationEvaluator(labelCol=\"label\", predictionCol=\"prediction\", metricName=\"weightedRecall\")\n",
    "recall = evaluator_recall.evaluate(predictions)\n",
    "\n",
    "evaluator_f1 = MulticlassClassificationEvaluator(labelCol=\"label\", predictionCol=\"prediction\", metricName=\"f1\")\n",
    "f1 = evaluator_f1.evaluate(predictions)\n",
    "\n",
    "print(f\"Precision: {precision}\")\n",
    "print(f\"Recall: {recall}\")\n",
    "print(f\"F1 Score: {f1}\")\n",
    "\n",
    "predictions.select(\"ContextualText\", \"label\", \"prediction\").show(10, truncate=50)"
   ],
   "id": "f208f3185929ba14"
  }
 ],
 "metadata": {
  "kernelspec": {
   "display_name": "Python 3",
   "language": "python",
   "name": "python3"
  },
  "language_info": {
   "codemirror_mode": {
    "name": "ipython",
    "version": 2
   },
   "file_extension": ".py",
   "mimetype": "text/x-python",
   "name": "python",
   "nbconvert_exporter": "python",
   "pygments_lexer": "ipython2",
   "version": "2.7.6"
  }
 },
 "nbformat": 4,
 "nbformat_minor": 5
}
